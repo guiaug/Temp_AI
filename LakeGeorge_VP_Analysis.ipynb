{
 "cells": [
  {
   "cell_type": "code",
   "execution_count": 2,
   "id": "4609112e",
   "metadata": {},
   "outputs": [],
   "source": [
    "import matplotlib.pyplot as plt\n",
    "import numpy as np\n",
    "from datetime import datetime"
   ]
  },
  {
   "cell_type": "markdown",
   "id": "2a7bc369",
   "metadata": {},
   "source": [
    "## We load the temperature data from the csv file and sort the data into matrices"
   ]
  },
  {
   "cell_type": "code",
   "execution_count": 49,
   "id": "a3b8aedd",
   "metadata": {},
   "outputs": [],
   "source": [
    "class read_in_data(object):\n",
    "    def __init__(self, filename):\n",
    "        # Open the file\n",
    "        fid_in = open(filename,\"r\")\n",
    "        \n",
    "        # The first line contains the headers\n",
    "        dummy = fid_in.readline()\n",
    "        \n",
    "        timestamps = []\n",
    "        depth      = []\n",
    "        temp       = []\n",
    "        fluo       = []\n",
    "        \n",
    "        # Loop through the file and store the data in the \n",
    "        # appropriate lists\n",
    "        for dummy_line in fid_in:\n",
    "            dummy_line = dummy_line.strip().split(\",\")\n",
    "\n",
    "            date = datetime.strptime(dummy_line[1]+ \" \" +dummy_line[2], '\"%m/%d/%y\" \"%H:%M:%S\"')\n",
    "            \n",
    "            \n",
    "            if dummy_line[3] == 'NA':\n",
    "                continue\n",
    "            else:\n",
    "                timestamps.append(date)\n",
    "\n",
    "                depth.append(float(dummy_line[3]))\n",
    "\n",
    "                temp.append(float(dummy_line[4]))\n",
    "\n",
    "                fluo.append(float(dummy_line[5]))\n",
    "        \n",
    "        fid_in.close()\n",
    "        \n",
    "        self.timestamps = np.array(timestamps)\n",
    "        self.depth = np.array(depth)\n",
    "        self.temp = np.array(temp)\n",
    "        self.fluo = np.array(fluo)\n",
    "    \n",
    "        # Convert the timeseries into matrices \n",
    "        # It will involve a linear interpolation in the vertical\n",
    "        self.vertical_consistency(dz = 0.2)\n",
    "        \n",
    "    def vertical_consistency(self, dz=0.2):\n",
    "        \n",
    "        # Initialize the lists linked to the matrices\n",
    "        MTemp = []\n",
    "        MDept = np.arange(0,self.depth.max()+dz,dz)\n",
    "        MTime = []\n",
    "        MFluo = []\n",
    "        \n",
    "        \n",
    "        # The end of a profile will be marked by a smaller depth in the next index\n",
    "        # Here we substract the neighbouring depth and check where it is megative\n",
    "        # Assuming the first index in the time series is the beginning of a profile\n",
    "        dep_diff = self.depth[1::] - self.depth[0:-1]\n",
    "        \n",
    "        # Where dep_diff <0 That's the end of a profile\n",
    "        loc_end_prof = np.squeeze(np.where(dep_diff<0.))\n",
    "  \n",
    "        # Now we will loop through the indices we created to extract the profiles\n",
    "        # It seems the profiler stops mid depth in between profiles, we will have \n",
    "        # to take this into account\n",
    "        prof_start = 0\n",
    "        \n",
    "\n",
    "        for i in range(0,len(loc_end_prof),1):\n",
    "            prof_end = loc_end_prof[i]+1\n",
    "            \n",
    "            profTime = self.timestamps[prof_start]\n",
    "            profTemp = self.temp[prof_start:prof_end]\n",
    "            profDept = self.depth[prof_start:prof_end]\n",
    "            profFluo = self.fluo[prof_start:prof_end]\n",
    "        \n",
    "            # The instances when the profiler is mid depth, the profD should have\n",
    "            # a length of 1. We don't focus on them, therefore, if we see one, we skip\n",
    "            if len(profDept) <= 10:\n",
    "                pass\n",
    "            else:\n",
    "                MTime.append(profTime)\n",
    "                dummy_temp = np.interp(MDept, profDept, profTemp)\n",
    "                MTemp.append(dummy_temp)\n",
    "                \n",
    "                dummy_fluo = np.interp(MDept, profDept, profFluo)\n",
    "                MFluo.append(dummy_fluo)\n",
    "            \n",
    "            prof_start = prof_end # Beginning of next profile\n",
    "            \n",
    "        self.MTime = np.array(MTime)\n",
    "        self.MTemp = np.array(MTemp)\n",
    "        self.MDept = np.array(MDept)\n",
    "        self.MFluo = np.array(MFluo)\n",
    "\n",
    "temperature_data = read_in_data(\"WaterTempData/TeaIsland.csv\")"
   ]
  },
  {
   "cell_type": "code",
   "execution_count": 42,
   "id": "c74f1ebd",
   "metadata": {},
   "outputs": [
    {
     "data": {
      "text/plain": [
       "(729, 142)"
      ]
     },
     "execution_count": 42,
     "metadata": {},
     "output_type": "execute_result"
    }
   ],
   "source": [
    "temperature_data.MFluo.shape"
   ]
  },
  {
   "cell_type": "code",
   "execution_count": 50,
   "id": "046827a6",
   "metadata": {},
   "outputs": [
    {
     "data": {
      "image/png": "[encoded data removed]",
      "text/plain": [
       "<Figure size 1200x500 with 2 Axes>"
      ]
     },
     "metadata": {},
     "output_type": "display_data"
    }
   ],
   "source": [
    "fig = plt.figure(figsize=(12,5))\n",
    "ax = fig.add_subplot(111)\n",
    "CS = ax.contourf(temperature_data.MTime, temperature_data.MDept, temperature_data.MTemp.T)\n",
    "CB = plt.colorbar(CS)\n",
    "ax.set_ylim((30,0))\n",
    "plt.show()"
   ]
  },
  {
   "cell_type": "code",
   "execution_count": null,
   "id": "6a8085d2",
   "metadata": {},
   "outputs": [],
   "source": []
  }
 ],
 "metadata": {
  "kernelspec": {
   "display_name": "Python 3 (ipykernel)",
   "language": "python",
   "name": "python3"
  },
  "language_info": {
   "codemirror_mode": {
    "name": "ipython",
    "version": 3
   },
   "file_extension": ".py",
   "mimetype": "text/x-python",
   "name": "python",
   "nbconvert_exporter": "python",
   "pygments_lexer": "ipython3",
   "version": "3.12.3"
  }
 },
 "nbformat": 4,
 "nbformat_minor": 5
}
